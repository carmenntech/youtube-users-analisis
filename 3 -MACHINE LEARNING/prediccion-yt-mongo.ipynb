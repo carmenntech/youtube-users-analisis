{
 "cells": [
  {
   "cell_type": "code",
   "execution_count": 1,
   "id": "ce51e755-c6cc-4dd9-90fd-8149e021aea7",
   "metadata": {},
   "outputs": [
    {
     "name": "stdout",
     "output_type": "stream",
     "text": [
      "Requirement already satisfied: pandas in /opt/conda/lib/python3.11/site-packages (2.0.3)\n",
      "Requirement already satisfied: python-dateutil>=2.8.2 in /opt/conda/lib/python3.11/site-packages (from pandas) (2.8.2)\n",
      "Requirement already satisfied: pytz>=2020.1 in /opt/conda/lib/python3.11/site-packages (from pandas) (2023.3.post1)\n",
      "Requirement already satisfied: tzdata>=2022.1 in /opt/conda/lib/python3.11/site-packages (from pandas) (2023.3)\n",
      "Requirement already satisfied: numpy>=1.21.0 in /opt/conda/lib/python3.11/site-packages (from pandas) (1.24.4)\n",
      "Requirement already satisfied: six>=1.5 in /opt/conda/lib/python3.11/site-packages (from python-dateutil>=2.8.2->pandas) (1.16.0)\n",
      "Note: you may need to restart the kernel to use updated packages.\n",
      "Requirement already satisfied: pymongo in /opt/conda/lib/python3.11/site-packages (4.8.0)\n",
      "Requirement already satisfied: dnspython<3.0.0,>=1.16.0 in /opt/conda/lib/python3.11/site-packages (from pymongo) (2.6.1)\n",
      "Note: you may need to restart the kernel to use updated packages.\n"
     ]
    }
   ],
   "source": [
    "%pip install pandas\n",
    "%pip install pymongo"
   ]
  },
  {
   "cell_type": "code",
   "execution_count": 3,
   "id": "d4fec41a-3ae9-4535-9dad-614fb010ac74",
   "metadata": {},
   "outputs": [
    {
     "name": "stdout",
     "output_type": "stream",
     "text": [
      "+----------------+----------+-----------+\n",
      "|            user|fecha_anio|total_views|\n",
      "+----------------+----------+-----------+\n",
      "|    @amaiaromero|         4|  5500000.0|\n",
      "|@ClaudiaNicolasa|         5|   288500.0|\n",
      "|@ClaudiaNicolasa|         2|  7635000.0|\n",
      "|    @amaiaromero|         0|   393000.0|\n",
      "|    @amaiaromero|         3|   616000.0|\n",
      "|@ClaudiaNicolasa|         3|  5241100.0|\n",
      "|    @amaiaromero|         5|   1.0309E7|\n",
      "|@ClaudiaNicolasa|         4|  2627800.0|\n",
      "|    @amaiaromero|         2|  9125000.0|\n",
      "|@ClaudiaNicolasa|         1|  8816700.0|\n",
      "| @belen_aguilera|         4|  5493000.0|\n",
      "| @belen_aguilera|         5|  5592000.0|\n",
      "| @belen_aguilera|         0|  1224000.0|\n",
      "| @belen_aguilera|         3|   1.0323E7|\n",
      "| @belen_aguilera|         1|  2701000.0|\n",
      "| @belen_aguilera|         2|  9655200.0|\n",
      "|@ClaudiaNicolasa|         0|  6246800.0|\n",
      "+----------------+----------+-----------+\n",
      "\n",
      "                                                titulo      views  \\\n",
      "0                                        Amaia - Nanai   393000.0   \n",
      "1    Amaia - Santos Que Yo Te Pinte (Live | Vevo St...   158000.0   \n",
      "2    Amaia - La Vida Imposible (Live | Vevo Studio ...   193000.0   \n",
      "3    Amaia, Aitana - La Canción Que No Quiero Cantarte  2300000.0   \n",
      "4                          Amaia - Bienvenidos Al Show  1700000.0   \n",
      "..                                                 ...        ...   \n",
      "344                ¿Qué hay en un SUPERMERCADO en USA?     9400.0   \n",
      "345  Entrenamiento de CUÁDRICEPS en GOLDS GYM | Vlo...    20000.0   \n",
      "346  TRUCOS y SECRETOS del GOLDS GYM | Entrenamient...     9100.0   \n",
      "347  Una RUSA en USA | POR QUÉ y CÓMO me vine a CAL...    32000.0   \n",
      "348  ELECCIÓN de PAREJA ¿En qué se fijan tus GENES?...   111000.0   \n",
      "\n",
      "              fecha              user fecha_anio  \n",
      "0    hace 3 semanas      @amaiaromero          0  \n",
      "1       hace 2 años      @amaiaromero          2  \n",
      "2       hace 2 años      @amaiaromero          2  \n",
      "3       hace 2 años      @amaiaromero          2  \n",
      "4       hace 2 años      @amaiaromero          2  \n",
      "..              ...               ...        ...  \n",
      "344     hace 5 años  @ClaudiaNicolasa          5  \n",
      "345     hace 5 años  @ClaudiaNicolasa          5  \n",
      "346     hace 5 años  @ClaudiaNicolasa          5  \n",
      "347     hace 5 años  @ClaudiaNicolasa          5  \n",
      "348     hace 5 años  @ClaudiaNicolasa          5  \n",
      "\n",
      "[349 rows x 5 columns]\n"
     ]
    }
   ],
   "source": [
    "import pyspark\n",
    "from pyspark.sql import SparkSession\n",
    "from pymongo import MongoClient\n",
    "import pandas as pd\n",
    "\n",
    "# Crea una SparkSession\n",
    "spark = SparkSession.builder \\\n",
    "    .appName(\"MongoSparkConnector\") \\\n",
    "    .getOrCreate()\n",
    "\n",
    "# Conecta a MongoDB usando pymongo\n",
    "client = MongoClient(\"mongodb://172.17.0.3:27017/\")\n",
    "db = client['docker']\n",
    "collection = db['yt-data']\n",
    "\n",
    "# Extrae los datos desde MongoDB\n",
    "mongo_data = list(collection.find())\n",
    "\n",
    "#print(mongo_data)\n",
    "\n",
    "# Convierte los datos a un DataFrame de pandas\n",
    "pdf = pd.DataFrame(mongo_data)\n",
    "\n",
    "\n",
    "# Reemplazar la coma por un punto en la columna 'visualizaciones'\n",
    "pdf['views'] = pdf['views'].str.replace(',', '.')\n",
    "\n",
    "# Definir una función que limpie y transforme los valores de la columna\n",
    "def transformar_visualizaciones(valor):\n",
    "    # Obtener la parte numérica y el sufijo\n",
    "    num, sufijo = valor.split(' ')[0], valor.split(' ')[1]\n",
    "    \n",
    "    # Transformar el valor basado en el sufijo\n",
    "    if sufijo == 'M':\n",
    "        return str(float(num) * 1e6).replace('.0', '')  # Multiplicar por 1 millón y convertir a string\n",
    "    if sufijo == 'K':\n",
    "        return str(float(num) * 1e3).replace('.0', '')  # Multiplicar por mil y convertir a string\n",
    "    else:\n",
    "        return num  # En caso de que haya otros sufijos en el futuro\n",
    "\n",
    "# Aplicar la función a la columna\n",
    "pdf['views'] = pdf['views'].apply(transformar_visualizaciones)\n",
    "\n",
    "pdf['views'] = pdf['views'].astype(float)\n",
    "\n",
    "# Definir una función que limpie y transforme los valores de la columna\n",
    "def transformar_anio(valor):\n",
    "    # Obtener la parte numérica y el sufijo\n",
    "    num, tiempo = valor.split(' ')[1], valor.split(' ')[2]\n",
    "    \n",
    "    # Transformar el valor basado en el sufijo\n",
    "    if tiempo == 'años' or tiempo == 'año':\n",
    "        return num \n",
    "    if tiempo == 'semanas' or tiempo == 'semana':\n",
    "       return 0\n",
    "    if tiempo == 'meses' or tiempo == 'mes':\n",
    "        return 0\n",
    "    else:\n",
    "        return num \n",
    "\n",
    "# Aplicar la función a la columna\n",
    "\n",
    "pdf['fecha_anio'] = pdf['fecha'].apply(transformar_anio)\n",
    "\n",
    "# Elimina la columna '_id' si es necesario, ya que no es serializable por defecto en Spark\n",
    "if '_id' in pdf.columns:\n",
    "    pdf = pdf.drop(columns=['_id'])\n",
    "\n",
    "# Convierte el DataFrame de pandas a un DataFrame de Spark\n",
    "df = spark.createDataFrame(pdf)\n",
    "\n",
    "# Convertir el DataFrame a un RDD\n",
    "rdd = df.select(\"user\", \"views\").rdd\n",
    "\n",
    "# Convertir el DataFrame a un RDD\n",
    "rdd = df.select(\"user\", \"views\", \"fecha_anio\").rdd\n",
    "\n",
    "# Usar map y reduceByKey para contar las visitas por usuario y año\n",
    "user_year_views_rdd = rdd.map(lambda row: ((row['user'], row['fecha_anio']), row['views'])) \\\n",
    "                         .reduceByKey(lambda a, b: a + b)\n",
    "\n",
    "# Convertir el RDD de nuevo a un DataFrame\n",
    "user_year_views_df = user_year_views_rdd.map(lambda x: (x[0][0], x[0][1], x[1])) \\\n",
    "                                        .toDF([\"user\", \"fecha_anio\", \"total_views\"])\n",
    "\n",
    "#user_year_views_df = user_year_views_df.sort_values(by='fecha_anio')\n",
    "# Mostrar los resultados\n",
    "user_year_views_df.show()\n",
    "\n",
    "df0 = user_year_views_df.toPandas()\n",
    "\n",
    "print(pdf)\n"
   ]
  },
  {
   "cell_type": "code",
   "execution_count": 17,
   "id": "9a484555-adb8-4c57-b0cf-8be443f82c42",
   "metadata": {},
   "outputs": [
    {
     "name": "stdout",
     "output_type": "stream",
     "text": [
      "               user  fecha_anio  total_views\n",
      "1  @ClaudiaNicolasa        2019     288500.0\n",
      "7  @ClaudiaNicolasa        2020    2627800.0\n",
      "5  @ClaudiaNicolasa        2021    5241100.0\n",
      "2  @ClaudiaNicolasa        2022    7635000.0\n",
      "9  @ClaudiaNicolasa        2023    8816700.0\n"
     ]
    },
    {
     "name": "stderr",
     "output_type": "stream",
     "text": [
      "/tmp/ipykernel_14936/3086656514.py:25: SettingWithCopyWarning: \n",
      "A value is trying to be set on a copy of a slice from a DataFrame\n",
      "\n",
      "See the caveats in the documentation: https://pandas.pydata.org/pandas-docs/stable/user_guide/indexing.html#returning-a-view-versus-a-copy\n",
      "  df0_claudia.sort_values(by='fecha_anio', inplace=True)\n"
     ]
    }
   ],
   "source": [
    "def transformar_anio2000(valor):\n",
    "    if valor == '0':\n",
    "        return 2024 \n",
    "    if valor == '1':\n",
    "       return 2023\n",
    "    if valor == '2':\n",
    "        return 2022\n",
    "    if valor == '3':\n",
    "        return 2021\n",
    "    if valor == '4':\n",
    "        return 2020\n",
    "    if valor == '5':\n",
    "        return 2019\n",
    "    else:\n",
    "        return valor \n",
    "\n",
    "# Aplicar la función a la columna\n",
    "\n",
    "df0['fecha_anio'] = df0['fecha_anio'].apply(transformar_anio2000)\n",
    "\n",
    "anios = [2019, 2020,2021,2022,2023]\n",
    "\n",
    "df0_claudia = df0[(df0['user'] == '@ClaudiaNicolasa') & (df0['fecha_anio'].isin(anios))]\n",
    "\n",
    "df0_claudia.sort_values(by='fecha_anio', inplace=True)\n",
    "\n",
    "print(df0_claudia)"
   ]
  },
  {
   "cell_type": "code",
   "execution_count": 23,
   "id": "2ddd9e3d-d7ea-4114-b32c-28ff02ec6356",
   "metadata": {},
   "outputs": [
    {
     "name": "stdout",
     "output_type": "stream",
     "text": [
      "Mean Squared Error: 845835677550.9863\n",
      "R-squared: 0.9116677973160596\n",
      "Intercepto: -4951816400.0\n",
      "Coeficiente: [2452757.14285714]\n"
     ]
    },
    {
     "data": {
      "image/png": "[encoded data removed]",
      "text/plain": [
       "<Figure size 640x480 with 1 Axes>"
      ]
     },
     "metadata": {},
     "output_type": "display_data"
    }
   ],
   "source": [
    "import matplotlib.pyplot as plt\n",
    "from sklearn.model_selection import train_test_split\n",
    "from sklearn.linear_model import LinearRegression\n",
    "from sklearn.metrics import mean_squared_error, r2_score\n",
    "\n",
    "# Seleccionar las características (X) y el objetivo (y)\n",
    "X = df0_claudia[['fecha_anio']]\n",
    "y = df0_claudia['total_views']\n",
    "\n",
    "# Dividir los datos en conjuntos de entrenamiento y prueba\n",
    "X_train, X_test, y_train, y_test = train_test_split(X, y, test_size=0.25, random_state=42)\n",
    "\n",
    "# Crear el modelo de regresión lineal\n",
    "modelo = LinearRegression()\n",
    "\n",
    "# Entrenar el modelo\n",
    "modelo.fit(X_train, y_train)\n",
    "\n",
    "# Hacer predicciones en el conjunto de prueba\n",
    "y_pred = modelo.predict(X_test)\n",
    "\n",
    "# Evaluar el modelo\n",
    "mse = mean_squared_error(y_test, y_pred)\n",
    "r2 = r2_score(y_test, y_pred)\n",
    "\n",
    "print(\"Mean Squared Error:\", mse)\n",
    "print(\"R-squared:\", r2)\n",
    "\n",
    "# Mostrar los coeficientes del modelo\n",
    "print(\"Intercepto:\", modelo.intercept_)\n",
    "print(\"Coeficiente:\", modelo.coef_)\n",
    "\n",
    "# Graficar los resultados\n",
    "plt.scatter(X_test, y_test, color='blue', label='Datos reales')\n",
    "plt.plot(X_test, y_pred, color='red', linewidth=2, label='Predicciones')\n",
    "plt.xlabel('AÑO')\n",
    "plt.ylabel('VIEWS')\n",
    "plt.title('Regresión Lineal: Edad vs Salario')\n",
    "plt.legend()\n",
    "plt.grid(True)\n",
    "plt.show()"
   ]
  },
  {
   "cell_type": "code",
   "execution_count": 29,
   "id": "5088826d-4c75-42a0-9175-d55061a49585",
   "metadata": {},
   "outputs": [
    {
     "name": "stdout",
     "output_type": "stream",
     "text": [
      "Predicción para el año 2025: 15016814.28571415\n"
     ]
    },
    {
     "name": "stderr",
     "output_type": "stream",
     "text": [
      "/opt/conda/lib/python3.11/site-packages/sklearn/base.py:465: UserWarning: X does not have valid feature names, but LinearRegression was fitted with feature names\n",
      "  warnings.warn(\n"
     ]
    }
   ],
   "source": [
    "import numpy as np\n",
    "\n",
    "anio_2025 = np.array([[2025]])\n",
    "prediccion_2025 = modelo.predict(anio_2025)\n",
    "print(\"Predicción para el año 2025:\", prediccion_2025[0])"
   ]
  },
  {
   "cell_type": "code",
   "execution_count": null,
   "id": "570e0b46-6f49-4446-9992-cdfc3e36a59f",
   "metadata": {},
   "outputs": [],
   "source": []
  }
 ],
 "metadata": {
  "kernelspec": {
   "display_name": "Python 3 (ipykernel)",
   "language": "python",
   "name": "python3"
  },
  "language_info": {
   "codemirror_mode": {
    "name": "ipython",
    "version": 3
   },
   "file_extension": ".py",
   "mimetype": "text/x-python",
   "name": "python",
   "nbconvert_exporter": "python",
   "pygments_lexer": "ipython3",
   "version": "3.11.6"
  }
 },
 "nbformat": 4,
 "nbformat_minor": 5
}

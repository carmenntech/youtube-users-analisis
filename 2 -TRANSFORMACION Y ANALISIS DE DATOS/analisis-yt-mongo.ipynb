{
 "cells": [
  {
   "cell_type": "code",
   "execution_count": 1,
   "id": "d4b601f8-e3f2-4219-a4fc-202c4898522d",
   "metadata": {},
   "outputs": [
    {
     "name": "stdout",
     "output_type": "stream",
     "text": [
      "Requirement already satisfied: pandas in /opt/conda/lib/python3.11/site-packages (2.0.3)\n",
      "Requirement already satisfied: python-dateutil>=2.8.2 in /opt/conda/lib/python3.11/site-packages (from pandas) (2.8.2)\n",
      "Requirement already satisfied: pytz>=2020.1 in /opt/conda/lib/python3.11/site-packages (from pandas) (2023.3.post1)\n",
      "Requirement already satisfied: tzdata>=2022.1 in /opt/conda/lib/python3.11/site-packages (from pandas) (2023.3)\n",
      "Requirement already satisfied: numpy>=1.21.0 in /opt/conda/lib/python3.11/site-packages (from pandas) (1.24.4)\n",
      "Requirement already satisfied: six>=1.5 in /opt/conda/lib/python3.11/site-packages (from python-dateutil>=2.8.2->pandas) (1.16.0)\n",
      "Note: you may need to restart the kernel to use updated packages.\n",
      "Requirement already satisfied: pymongo in /opt/conda/lib/python3.11/site-packages (4.8.0)\n",
      "Requirement already satisfied: dnspython<3.0.0,>=1.16.0 in /opt/conda/lib/python3.11/site-packages (from pymongo) (2.6.1)\n",
      "Note: you may need to restart the kernel to use updated packages.\n"
     ]
    }
   ],
   "source": [
    "%pip install pandas\n",
    "%pip install pymongo"
   ]
  },
  {
   "cell_type": "code",
   "execution_count": 2,
   "id": "ff36d76d-a63f-4038-95b5-de724433736e",
   "metadata": {},
   "outputs": [],
   "source": [
    "import pyspark\n",
    "from pyspark.sql import SparkSession\n",
    "from pymongo import MongoClient\n",
    "import pandas as pd\n",
    "\n",
    "# Crea una SparkSession\n",
    "spark = SparkSession.builder \\\n",
    "    .appName(\"MongoSparkConnector\") \\\n",
    "    .getOrCreate()\n",
    "\n",
    "# Conecta a MongoDB usando pymongo\n",
    "client = MongoClient(\"mongodb://172.17.0.3:27017/\")\n",
    "db = client['docker']\n",
    "collection = db['yt-data']\n",
    "\n",
    "# Extrae los datos desde MongoDB\n",
    "mongo_data = list(collection.find())\n",
    "\n",
    "#print(mongo_data)\n",
    "\n",
    "# Convierte los datos a un DataFrame de pandas\n",
    "pdf = pd.DataFrame(mongo_data)\n",
    "\n",
    "\n"
   ]
  },
  {
   "cell_type": "code",
   "execution_count": 3,
   "id": "e294a40a-206e-4454-ad37-9cd880bf8a92",
   "metadata": {},
   "outputs": [
    {
     "name": "stdout",
     "output_type": "stream",
     "text": [
      "                          _id  \\\n",
      "0    6690e40eb9339c7f06db7dd5   \n",
      "1    6690e40eb9339c7f06db7dd6   \n",
      "2    6690e40eb9339c7f06db7dd7   \n",
      "3    6690e40eb9339c7f06db7dd8   \n",
      "4    6690e40eb9339c7f06db7dd9   \n",
      "..                        ...   \n",
      "402  669d8b50b9339c7f06db8003   \n",
      "403  669d8b50b9339c7f06db8004   \n",
      "404  669d8b50b9339c7f06db8005   \n",
      "405  669d8b50b9339c7f06db8006   \n",
      "406  669d8b50b9339c7f06db8007   \n",
      "\n",
      "                                                titulo      views  \\\n",
      "0                                        Amaia - Nanai   393000.0   \n",
      "1    Amaia - Santos Que Yo Te Pinte (Live | Vevo St...   158000.0   \n",
      "2    Amaia - La Vida Imposible (Live | Vevo Studio ...   193000.0   \n",
      "3    Amaia, Aitana - La Canción Que No Quiero Cantarte  2300000.0   \n",
      "4                          Amaia - Bienvenidos Al Show  1700000.0   \n",
      "..                                                 ...        ...   \n",
      "402                ¿Qué hay en un SUPERMERCADO en USA?     9400.0   \n",
      "403  Entrenamiento de CUÁDRICEPS en GOLDS GYM | Vlo...    20000.0   \n",
      "404  TRUCOS y SECRETOS del GOLDS GYM | Entrenamient...     9100.0   \n",
      "405  Una RUSA en USA | POR QUÉ y CÓMO me vine a CAL...    32000.0   \n",
      "406  ELECCIÓN de PAREJA ¿En qué se fijan tus GENES?...   111000.0   \n",
      "\n",
      "              fecha              user  \n",
      "0    hace 3 semanas      @amaiaromero  \n",
      "1       hace 2 años      @amaiaromero  \n",
      "2       hace 2 años      @amaiaromero  \n",
      "3       hace 2 años      @amaiaromero  \n",
      "4       hace 2 años      @amaiaromero  \n",
      "..              ...               ...  \n",
      "402     hace 5 años  @ClaudiaNicolasa  \n",
      "403     hace 5 años  @ClaudiaNicolasa  \n",
      "404     hace 5 años  @ClaudiaNicolasa  \n",
      "405     hace 5 años  @ClaudiaNicolasa  \n",
      "406     hace 5 años  @ClaudiaNicolasa  \n",
      "\n",
      "[407 rows x 5 columns]\n"
     ]
    }
   ],
   "source": [
    "# Reemplazar la coma por un punto en la columna 'visualizaciones'\n",
    "pdf['views'] = pdf['views'].str.replace(',', '.')\n",
    "\n",
    "# Definir una función que limpie y transforme los valores de la columna\n",
    "def transformar_visualizaciones(valor):\n",
    "    # Obtener la parte numérica y el sufijo\n",
    "    num, sufijo = valor.split(' ')[0], valor.split(' ')[1]\n",
    "    \n",
    "    # Transformar el valor basado en el sufijo\n",
    "    if sufijo == 'M':\n",
    "        return str(float(num) * 1e6).replace('.0', '')  # Multiplicar por 1 millón y convertir a string\n",
    "    if sufijo == 'K':\n",
    "        return str(float(num) * 1e3).replace('.0', '')  # Multiplicar por mil y convertir a string\n",
    "    else:\n",
    "        return num  # En caso de que haya otros sufijos en el futuro\n",
    "\n",
    "# Aplicar la función a la columna\n",
    "pdf['views'] = pdf['views'].apply(transformar_visualizaciones)\n",
    "\n",
    "\n",
    "\n",
    "pdf['views'] = pdf['views'].astype(float)\n",
    "# Mostrar el DataFrame resultante\n",
    "print(pdf)"
   ]
  },
  {
   "cell_type": "code",
   "execution_count": 4,
   "id": "a8b8b461-2511-40bd-a688-9fd16a07170c",
   "metadata": {},
   "outputs": [
    {
     "name": "stdout",
     "output_type": "stream",
     "text": [
      "                          _id  \\\n",
      "0    6690e40eb9339c7f06db7dd5   \n",
      "1    6690e40eb9339c7f06db7dd6   \n",
      "2    6690e40eb9339c7f06db7dd7   \n",
      "3    6690e40eb9339c7f06db7dd8   \n",
      "4    6690e40eb9339c7f06db7dd9   \n",
      "..                        ...   \n",
      "402  669d8b50b9339c7f06db8003   \n",
      "403  669d8b50b9339c7f06db8004   \n",
      "404  669d8b50b9339c7f06db8005   \n",
      "405  669d8b50b9339c7f06db8006   \n",
      "406  669d8b50b9339c7f06db8007   \n",
      "\n",
      "                                                titulo      views  \\\n",
      "0                                        Amaia - Nanai   393000.0   \n",
      "1    Amaia - Santos Que Yo Te Pinte (Live | Vevo St...   158000.0   \n",
      "2    Amaia - La Vida Imposible (Live | Vevo Studio ...   193000.0   \n",
      "3    Amaia, Aitana - La Canción Que No Quiero Cantarte  2300000.0   \n",
      "4                          Amaia - Bienvenidos Al Show  1700000.0   \n",
      "..                                                 ...        ...   \n",
      "402                ¿Qué hay en un SUPERMERCADO en USA?     9400.0   \n",
      "403  Entrenamiento de CUÁDRICEPS en GOLDS GYM | Vlo...    20000.0   \n",
      "404  TRUCOS y SECRETOS del GOLDS GYM | Entrenamient...     9100.0   \n",
      "405  Una RUSA en USA | POR QUÉ y CÓMO me vine a CAL...    32000.0   \n",
      "406  ELECCIÓN de PAREJA ¿En qué se fijan tus GENES?...   111000.0   \n",
      "\n",
      "              fecha              user fecha_anio  \n",
      "0    hace 3 semanas      @amaiaromero          0  \n",
      "1       hace 2 años      @amaiaromero          2  \n",
      "2       hace 2 años      @amaiaromero          2  \n",
      "3       hace 2 años      @amaiaromero          2  \n",
      "4       hace 2 años      @amaiaromero          2  \n",
      "..              ...               ...        ...  \n",
      "402     hace 5 años  @ClaudiaNicolasa          5  \n",
      "403     hace 5 años  @ClaudiaNicolasa          5  \n",
      "404     hace 5 años  @ClaudiaNicolasa          5  \n",
      "405     hace 5 años  @ClaudiaNicolasa          5  \n",
      "406     hace 5 años  @ClaudiaNicolasa          5  \n",
      "\n",
      "[407 rows x 6 columns]\n"
     ]
    }
   ],
   "source": [
    "# Definir una función que limpie y transforme los valores de la columna\n",
    "def transformar_anio(valor):\n",
    "    # Obtener la parte numérica y el sufijo\n",
    "    num, tiempo = valor.split(' ')[1], valor.split(' ')[2]\n",
    "    \n",
    "    # Transformar el valor basado en el sufijo\n",
    "    if tiempo == 'años' or tiempo == 'año':\n",
    "        return num \n",
    "    if tiempo == 'semanas' or tiempo == 'semana':\n",
    "       return 0\n",
    "    if tiempo == 'meses' or tiempo == 'mes':\n",
    "        return 0\n",
    "    else:\n",
    "        return num \n",
    "\n",
    "# Aplicar la función a la columna\n",
    "\n",
    "pdf['fecha_anio'] = pdf['fecha'].apply(transformar_anio)\n",
    "\n",
    "# Mostrar el DataFrame resultante\n",
    "print(pdf)"
   ]
  },
  {
   "cell_type": "code",
   "execution_count": 5,
   "id": "29b5c02a-2fbc-4ac0-9aca-fabd70716f88",
   "metadata": {},
   "outputs": [],
   "source": [
    "# Elimina la columna '_id' si es necesario, ya que no es serializable por defecto en Spark\n",
    "if '_id' in pdf.columns:\n",
    "    pdf = pdf.drop(columns=['_id'])\n",
    "\n",
    "# Convierte el DataFrame de pandas a un DataFrame de Spark\n",
    "df = spark.createDataFrame(pdf)\n",
    "\n",
    "# Convertir el DataFrame a un RDD\n",
    "rdd = df.select(\"user\", \"views\").rdd\n"
   ]
  },
  {
   "cell_type": "code",
   "execution_count": 6,
   "id": "ea98b8b4-9b3f-4e1b-9f32-b851c6ce6c2e",
   "metadata": {},
   "outputs": [
    {
     "name": "stdout",
     "output_type": "stream",
     "text": [
      "+----------------+-----------+\n",
      "|            user|total_views|\n",
      "+----------------+-----------+\n",
      "|  @NickiNicoleOk| 1.536042E9|\n",
      "|    @amaiaromero|   2.5943E7|\n",
      "|@ClaudiaNicolasa|  3.08559E7|\n",
      "| @belen_aguilera|  3.49882E7|\n",
      "+----------------+-----------+\n",
      "\n"
     ]
    }
   ],
   "source": [
    "user_views_rdd = rdd.map(lambda row: (row['user'], row['views'])) \\\n",
    "                    .reduceByKey(lambda a, b: a + b)\n",
    "\n",
    "# Convertir el RDD de nuevo a un DataFrame\n",
    "user_views_df = user_views_rdd.toDF([\"user\", \"total_views\"])\n",
    "\n",
    "# Mostrar los resultados\n",
    "user_views_df.show()"
   ]
  },
  {
   "cell_type": "code",
   "execution_count": 7,
   "id": "62501442-4561-4b29-a3db-3f6807b322b3",
   "metadata": {},
   "outputs": [
    {
     "name": "stdout",
     "output_type": "stream",
     "text": [
      "+----------------+----------+-----------+\n",
      "|            user|fecha_anio|total_views|\n",
      "+----------------+----------+-----------+\n",
      "|    @amaiaromero|         4|  5500000.0|\n",
      "|  @NickiNicoleOk|         3|     2.01E8|\n",
      "|@ClaudiaNicolasa|         5|   288500.0|\n",
      "|@ClaudiaNicolasa|         2|  7635000.0|\n",
      "|    @amaiaromero|         0|   393000.0|\n",
      "|    @amaiaromero|         3|   616000.0|\n",
      "|  @NickiNicoleOk|         4|    5.497E8|\n",
      "|  @NickiNicoleOk|         5|     1.61E8|\n",
      "|@ClaudiaNicolasa|         3|  5241100.0|\n",
      "|    @amaiaromero|         5|   1.0309E7|\n",
      "|  @NickiNicoleOk|         0|   4.3334E7|\n",
      "|@ClaudiaNicolasa|         4|  2627800.0|\n",
      "|    @amaiaromero|         2|  9125000.0|\n",
      "|@ClaudiaNicolasa|         1|  8816700.0|\n",
      "| @belen_aguilera|         4|  5493000.0|\n",
      "| @belen_aguilera|         5|  5592000.0|\n",
      "|  @NickiNicoleOk|         1|  3.93752E8|\n",
      "|  @NickiNicoleOk|         2|  1.87256E8|\n",
      "| @belen_aguilera|         0|  1224000.0|\n",
      "| @belen_aguilera|         3|   1.0323E7|\n",
      "+----------------+----------+-----------+\n",
      "only showing top 20 rows\n",
      "\n"
     ]
    }
   ],
   "source": [
    "# Convertir el DataFrame a un RDD\n",
    "rdd = df.select(\"user\", \"views\", \"fecha_anio\").rdd\n",
    "\n",
    "# Usar map y reduceByKey para contar las visitas por usuario y año\n",
    "user_year_views_rdd = rdd.map(lambda row: ((row['user'], row['fecha_anio']), row['views'])) \\\n",
    "                         .reduceByKey(lambda a, b: a + b)\n",
    "\n",
    "# Convertir el RDD de nuevo a un DataFrame\n",
    "user_year_views_df = user_year_views_rdd.map(lambda x: (x[0][0], x[0][1], x[1])) \\\n",
    "                                        .toDF([\"user\", \"fecha_anio\", \"total_views\"])\n",
    "\n",
    "\n",
    "# Mostrar los resultados\n",
    "user_year_views_df.show()"
   ]
  },
  {
   "cell_type": "code",
   "execution_count": 8,
   "id": "a9ebd268-0d2d-49f9-9a44-6e8bf24871dd",
   "metadata": {},
   "outputs": [
    {
     "name": "stdout",
     "output_type": "stream",
     "text": [
      "Requirement already satisfied: numpy in /opt/conda/lib/python3.11/site-packages (1.24.4)\n",
      "Note: you may need to restart the kernel to use updated packages.\n",
      "Requirement already satisfied: matplotlib in /opt/conda/lib/python3.11/site-packages (3.8.0)\n",
      "Requirement already satisfied: contourpy>=1.0.1 in /opt/conda/lib/python3.11/site-packages (from matplotlib) (1.1.1)\n",
      "Requirement already satisfied: cycler>=0.10 in /opt/conda/lib/python3.11/site-packages (from matplotlib) (0.12.1)\n",
      "Requirement already satisfied: fonttools>=4.22.0 in /opt/conda/lib/python3.11/site-packages (from matplotlib) (4.43.1)\n",
      "Requirement already satisfied: kiwisolver>=1.0.1 in /opt/conda/lib/python3.11/site-packages (from matplotlib) (1.4.5)\n",
      "Requirement already satisfied: numpy<2,>=1.21 in /opt/conda/lib/python3.11/site-packages (from matplotlib) (1.24.4)\n",
      "Requirement already satisfied: packaging>=20.0 in /opt/conda/lib/python3.11/site-packages (from matplotlib) (23.2)\n",
      "Requirement already satisfied: pillow>=6.2.0 in /opt/conda/lib/python3.11/site-packages (from matplotlib) (10.1.0)\n",
      "Requirement already satisfied: pyparsing>=2.3.1 in /opt/conda/lib/python3.11/site-packages (from matplotlib) (3.1.1)\n",
      "Requirement already satisfied: python-dateutil>=2.7 in /opt/conda/lib/python3.11/site-packages (from matplotlib) (2.8.2)\n",
      "Requirement already satisfied: six>=1.5 in /opt/conda/lib/python3.11/site-packages (from python-dateutil>=2.7->matplotlib) (1.16.0)\n",
      "Note: you may need to restart the kernel to use updated packages.\n"
     ]
    }
   ],
   "source": [
    "%pip install numpy\n",
    "%pip install matplotlib"
   ]
  },
  {
   "cell_type": "code",
   "execution_count": 11,
   "id": "c672990d-ffc0-4197-bf4e-ec51147d126e",
   "metadata": {},
   "outputs": [
    {
     "name": "stdout",
     "output_type": "stream",
     "text": [
      "0    1.536042e+09\n",
      "1    2.594300e+07\n",
      "2    3.085590e+07\n",
      "3    3.498820e+07\n",
      "Name: total_views, dtype: float64\n",
      "0      @NickiNicoleOk\n",
      "1        @amaiaromero\n",
      "2    @ClaudiaNicolasa\n",
      "3     @belen_aguilera\n",
      "Name: user, dtype: object\n"
     ]
    },
    {
     "data": {
      "image/png": "[encoded data removed]",
      "text/plain": [
       "<Figure size 640x480 with 1 Axes>"
      ]
     },
     "metadata": {},
     "output_type": "display_data"
    }
   ],
   "source": [
    "import matplotlib.pyplot as plt\n",
    "import numpy as np\n",
    "\n",
    "try:\n",
    "    df0 = user_views_df.toPandas()\n",
    "    x = df0['total_views']\n",
    "    y = df0['user']\n",
    "\n",
    "    print(x)\n",
    "    print(y)\n",
    "\n",
    "    plt.figure()\n",
    "    plt.plot(x, y, marker='o', linestyle='-', color='b')\n",
    "    plt.show()\n",
    "\n",
    "except Exception as e:\n",
    "\n",
    "    print(e)\n"
   ]
  },
  {
   "cell_type": "code",
   "execution_count": null,
   "id": "77047342-a642-49ac-90be-6e593b2e6a70",
   "metadata": {},
   "outputs": [],
   "source": []
  }
 ],
 "metadata": {
  "kernelspec": {
   "display_name": "Python 3 (ipykernel)",
   "language": "python",
   "name": "python3"
  },
  "language_info": {
   "codemirror_mode": {
    "name": "ipython",
    "version": 3
   },
   "file_extension": ".py",
   "mimetype": "text/x-python",
   "name": "python",
   "nbconvert_exporter": "python",
   "pygments_lexer": "ipython3",
   "version": "3.11.6"
  }
 },
 "nbformat": 4,
 "nbformat_minor": 5
}
